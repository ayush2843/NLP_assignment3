{
  "nbformat": 4,
  "nbformat_minor": 0,
  "metadata": {
    "colab": {
      "name": "Untitled1.ipynb",
      "provenance": []
    },
    "kernelspec": {
      "name": "python3",
      "display_name": "Python 3"
    },
    "accelerator": "GPU"
  },
  "cells": [
    {
      "cell_type": "code",
      "metadata": {
        "id": "laYc5wNcy9Dk",
        "colab_type": "code",
        "colab": {
          "base_uri": "https://localhost:8080/",
          "height": 70
        },
        "outputId": "4ebb9066-1cbd-4ddc-c557-b8b75343239a"
      },
      "source": [
        "import numpy as np\n",
        "import pandas as pd\n",
        "import string\n",
        "import nltk\n",
        "nltk.download('stopwords')"
      ],
      "execution_count": 1,
      "outputs": [
        {
          "output_type": "stream",
          "text": [
            "[nltk_data] Downloading package stopwords to /root/nltk_data...\n",
            "[nltk_data]   Unzipping corpora/stopwords.zip.\n"
          ],
          "name": "stdout"
        },
        {
          "output_type": "execute_result",
          "data": {
            "text/plain": [
              "True"
            ]
          },
          "metadata": {
            "tags": []
          },
          "execution_count": 1
        }
      ]
    },
    {
      "cell_type": "code",
      "metadata": {
        "id": "sN2nM26ezMFf",
        "colab_type": "code",
        "colab": {}
      },
      "source": [
        "data = open(\"train.txt\",\"r\")\n",
        "data=list(data)\n",
        "\n",
        "test_data=open(\"test.txt\",\"r\")\n",
        "test_data=list(test_data) "
      ],
      "execution_count": 0,
      "outputs": []
    },
    {
      "cell_type": "code",
      "metadata": {
        "id": "JWeUQNULzOJ7",
        "colab_type": "code",
        "colab": {}
      },
      "source": [
        "def preprocess(data):\n",
        "  tweets=[]\n",
        "  sentiments=[]\n",
        "  arr=[]\n",
        "  c=0\n",
        "  for i in data:\n",
        "    if(i==\"\\n\"):\n",
        "      tweets.append(arr)\n",
        "      arr=[]\n",
        "    else:\n",
        "      temp=i.split(\"\\t\")\n",
        "      if(len(temp)==3):\n",
        "        sentiments.append(temp[2])\n",
        "      arr.append(temp[0])\n",
        "  tweet=[]\n",
        "  for i in tweets:\n",
        "    temp=\"\"\n",
        "    for j in i:\n",
        "      temp+=j\n",
        "      temp+=\" \"\n",
        "    tweet.append(temp[:-1])\n",
        "  tweets=tweet \n",
        "  sent=[]\n",
        "  for i in sentiments:\n",
        "    temp=i[:-1]\n",
        "    if(temp==\"neutral\"):\n",
        "      sent.append(0)\n",
        "    elif(temp==\"positive\"):\n",
        "      sent.append(1)\n",
        "    else:\n",
        "      sent.append(2)  \n",
        "\n",
        "  return(tweets,sent)"
      ],
      "execution_count": 0,
      "outputs": []
    },
    {
      "cell_type": "code",
      "metadata": {
        "id": "NioWjtm_zSUo",
        "colab_type": "code",
        "colab": {}
      },
      "source": [
        " tweets,sent=preprocess(data)"
      ],
      "execution_count": 0,
      "outputs": []
    },
    {
      "cell_type": "code",
      "metadata": {
        "id": "Zkl1wLq8zVKU",
        "colab_type": "code",
        "colab": {}
      },
      "source": [
        "test_tweets,test_sent=preprocess(test_data)"
      ],
      "execution_count": 0,
      "outputs": []
    },
    {
      "cell_type": "code",
      "metadata": {
        "id": "f7rwHT4VZ5DA",
        "colab_type": "code",
        "colab": {}
      },
      "source": [
        "df=pd.DataFrame()\n",
        "df[\"tweet\"]=tweets\n",
        "test_df=pd.DataFrame()\n",
        "test_df[\"tweet\"]=test_tweets"
      ],
      "execution_count": 0,
      "outputs": []
    },
    {
      "cell_type": "code",
      "metadata": {
        "id": "tieJBjkxZwK2",
        "colab_type": "code",
        "colab": {}
      },
      "source": [
        "import string"
      ],
      "execution_count": 0,
      "outputs": []
    },
    {
      "cell_type": "code",
      "metadata": {
        "id": "omz5QTT6Y1TZ",
        "colab_type": "code",
        "colab": {}
      },
      "source": [
        "PUNCT_TO_REMOVE = string.punctuation\n",
        "def remove_punctuation(text):\n",
        "    \"\"\"custom function to remove the punctuation\"\"\"\n",
        "    return text.translate(str.maketrans('', '', PUNCT_TO_REMOVE))\n",
        "\n",
        "df[\"tweet\"] = df[\"tweet\"].apply(lambda text: remove_punctuation(text))\n",
        "test_df[\"tweet\"] = test_df[\"tweet\"].apply(lambda text: remove_punctuation(text))\n",
        "\n",
        "from nltk.corpus import stopwords\n",
        "\n",
        "STOPWORDS = set(stopwords.words('english'))\n",
        "def remove_stopwords(text):\n",
        "    return \" \".join([word for word in str(text).split() if word not in STOPWORDS])\n",
        "\n",
        "df[\"tweet\"] = df[\"tweet\"].apply(lambda text: remove_stopwords(text))\n",
        "test_df[\"tweet\"] = test_df[\"tweet\"].apply(lambda text: remove_stopwords(text))\n",
        "\n",
        "\n",
        "\n",
        "#removing links\n",
        "def removeLinks(df):\n",
        "    for i in range(len(df['tweet'])):\n",
        "        i_arr = df['tweet'][i].split(\" \")\n",
        "        if 'https' in i_arr:\n",
        "            ind = i_arr.index('https')\n",
        "            df['tweet'][i] = \" \".join(i_arr[:ind])\n",
        "    return df\n",
        "\n",
        "df = removeLinks(df)\n",
        "test_df = removeLinks(test_df)"
      ],
      "execution_count": 0,
      "outputs": []
    },
    {
      "cell_type": "code",
      "metadata": {
        "id": "m7QXAbdsdRCr",
        "colab_type": "code",
        "colab": {}
      },
      "source": [
        "tweets=df[\"tweet\"].values\n",
        "test_tweets=test_df[\"tweet\"].values"
      ],
      "execution_count": 0,
      "outputs": []
    },
    {
      "cell_type": "code",
      "metadata": {
        "id": "xnbbj4s0zbay",
        "colab_type": "code",
        "colab": {}
      },
      "source": [
        "import numpy as np\n",
        "import pandas as pd\n",
        "from keras.preprocessing.text import Tokenizer\n",
        "from keras.preprocessing.sequence import pad_sequences\n",
        "\n",
        "from keras.layers import Input, Embedding, Activation, Flatten, Dense\n",
        "from keras.layers import Conv1D, MaxPooling1D, Dropout\n",
        "from keras.models import Model"
      ],
      "execution_count": 0,
      "outputs": []
    },
    {
      "cell_type": "code",
      "metadata": {
        "id": "IOyEVlaXzeOW",
        "colab_type": "code",
        "colab": {}
      },
      "source": [
        "import numpy as np\n",
        "import pandas as pd\n",
        "\n",
        "\n",
        "\n",
        "\n",
        "from keras.preprocessing.text import Tokenizer\n",
        "from keras.preprocessing.sequence import pad_sequences\n",
        "\n",
        "# Tokenizer\n",
        "tk = Tokenizer(num_words=None, char_level=True, oov_token='UNK')\n",
        "tk.fit_on_texts(tweets)\n",
        "\n",
        "alphabet=\"abcdefghijklmnopqrstuvwxyz0123456789 ,;.!?:'\\\"/\\\\|_@#$%^&*~`+-=<>()[]{}\"\n",
        "char_dict = {}\n",
        "for i, char in enumerate(alphabet):\n",
        "    char_dict[char] = i + 1\n",
        "    \n",
        "\n",
        "tk.word_index = char_dict.copy() \n",
        "# Add 'UNK' to the vocabulary \n",
        "tk.word_index[tk.oov_token] = max(char_dict.values()) + 1\n",
        "\n",
        "\n",
        "\n",
        "train_sequences = tk.texts_to_sequences(tweets)\n",
        "test_texts = tk.texts_to_sequences(test_tweets)\n",
        "\n",
        "train_data = pad_sequences(train_sequences, maxlen=1014, padding='post')\n",
        "test_data = pad_sequences(test_texts, maxlen=1014, padding='post')\n",
        "\n",
        "\n",
        "train_data = np.array(train_data, dtype='float32')\n",
        "test_data = np.array(test_data, dtype='float32')\n",
        "\n",
        "\n",
        "train_classes = sent\n",
        "train_class_list = [x for x in train_classes]\n",
        "\n",
        "test_classes = test_sent\n",
        "test_class_list = [x for x in test_classes]\n",
        "\n",
        "from keras.utils import to_categorical\n",
        "train_classes = to_categorical(train_class_list)\n",
        "test_classes = to_categorical(test_class_list)\n"
      ],
      "execution_count": 0,
      "outputs": []
    },
    {
      "cell_type": "code",
      "metadata": {
        "id": "bfUWJ2cuzhMu",
        "colab_type": "code",
        "colab": {
          "base_uri": "https://localhost:8080/",
          "height": 34
        },
        "outputId": "a568c820-ab44-4c4e-f6eb-117e1125f6ae"
      },
      "source": [
        "vocab_size = len(tk.word_index)\n",
        "vocab_size"
      ],
      "execution_count": 66,
      "outputs": [
        {
          "output_type": "execute_result",
          "data": {
            "text/plain": [
              "70"
            ]
          },
          "metadata": {
            "tags": []
          },
          "execution_count": 66
        }
      ]
    },
    {
      "cell_type": "code",
      "metadata": {
        "id": "fzElrP46zjVf",
        "colab_type": "code",
        "colab": {}
      },
      "source": [
        "embedding_weights = [] #(71, 70)\n",
        "embedding_weights.append(np.zeros(vocab_size)) # first row is pad\n",
        "\n",
        "for char, i in tk.word_index.items(): # from index 1 to 70\n",
        "    onehot = np.zeros(vocab_size)\n",
        "    onehot[i-1] = 1\n",
        "    embedding_weights.append(onehot)\n",
        "embedding_weights = np.array(embedding_weights)"
      ],
      "execution_count": 0,
      "outputs": []
    },
    {
      "cell_type": "code",
      "metadata": {
        "id": "Pam3wtY3zmhi",
        "colab_type": "code",
        "colab": {
          "base_uri": "https://localhost:8080/",
          "height": 158
        },
        "outputId": "7c61d197-bcf6-4d1a-89d5-e95f6c78aa61"
      },
      "source": [
        "print(embedding_weights.shape) \n",
        "embedding_weights"
      ],
      "execution_count": 68,
      "outputs": [
        {
          "output_type": "stream",
          "text": [
            "(71, 70)\n"
          ],
          "name": "stdout"
        },
        {
          "output_type": "execute_result",
          "data": {
            "text/plain": [
              "array([[0., 0., 0., ..., 0., 0., 0.],\n",
              "       [1., 0., 0., ..., 0., 0., 0.],\n",
              "       [0., 1., 0., ..., 0., 0., 0.],\n",
              "       ...,\n",
              "       [0., 0., 0., ..., 1., 0., 0.],\n",
              "       [0., 0., 0., ..., 0., 1., 0.],\n",
              "       [0., 0., 0., ..., 0., 0., 1.]])"
            ]
          },
          "metadata": {
            "tags": []
          },
          "execution_count": 68
        }
      ]
    },
    {
      "cell_type": "code",
      "metadata": {
        "id": "6oNpVBZ8zpLV",
        "colab_type": "code",
        "colab": {}
      },
      "source": [
        "from keras.layers import Input, Embedding, Activation, Flatten, Dense\n",
        "from keras.layers import Conv1D, MaxPooling1D, Dropout\n",
        "from keras.models import Model"
      ],
      "execution_count": 0,
      "outputs": []
    },
    {
      "cell_type": "code",
      "metadata": {
        "id": "Q7ClxrgGzrkJ",
        "colab_type": "code",
        "colab": {}
      },
      "source": [
        "input_size = 1014\n",
        "\n",
        "embedding_size = 70\n",
        "conv_layers = [[256, 7, 3], \n",
        "               [256, 7, 3], \n",
        "               [256, 3, -1], \n",
        "               [256, 3, -1], \n",
        "               [256, 3, -1], \n",
        "               [256, 3, 3]]\n",
        "\n",
        "fully_connected_layers = [1024, 1024]\n",
        "num_of_classes = 3\n",
        "dropout_p = 0.5\n",
        "optimizer = 'adam'\n",
        "loss = 'categorical_crossentropy'"
      ],
      "execution_count": 0,
      "outputs": []
    },
    {
      "cell_type": "code",
      "metadata": {
        "id": "--8BlyI1zt6I",
        "colab_type": "code",
        "colab": {}
      },
      "source": [
        "embedding_layer = Embedding(vocab_size+1, \n",
        "                            embedding_size,\n",
        "                            input_length=input_size,\n",
        "                            weights=[embedding_weights])"
      ],
      "execution_count": 0,
      "outputs": []
    },
    {
      "cell_type": "code",
      "metadata": {
        "id": "E2f6fuCPzwIt",
        "colab_type": "code",
        "colab": {
          "base_uri": "https://localhost:8080/",
          "height": 976
        },
        "outputId": "406408c7-f3d6-4709-c54f-7fd9551b9158"
      },
      "source": [
        "inputs = Input(shape=(input_size,), name='input', dtype='int64') \n",
        "# Embedding \n",
        "x = embedding_layer(inputs)\n",
        "# Conv \n",
        "for filter_num, filter_size, pooling_size in conv_layers:\n",
        "    x = Conv1D(filter_num, filter_size)(x) \n",
        "    x = Activation('relu')(x)\n",
        "    if pooling_size != -1:\n",
        "        x = MaxPooling1D(pool_size=pooling_size)(x) # Final shape=(None, 34, 256)\n",
        "x = Flatten()(x) # (None, 8704)\n",
        "# Fully connected layers \n",
        "for dense_size in fully_connected_layers:\n",
        "    x = Dense(dense_size, activation='relu')(x) # dense_size == 1024\n",
        "    x = Dropout(dropout_p)(x)\n",
        "# Output Layer\n",
        "predictions = Dense(num_of_classes, activation='softmax')(x)\n",
        "# Build model\n",
        "model = Model(inputs=inputs, outputs=predictions)\n",
        "model.compile(optimizer=optimizer, loss=loss, metrics=['accuracy']) # Adam, categorical_crossentropy\n",
        "model.summary()"
      ],
      "execution_count": 72,
      "outputs": [
        {
          "output_type": "stream",
          "text": [
            "Model: \"model_3\"\n",
            "_________________________________________________________________\n",
            "Layer (type)                 Output Shape              Param #   \n",
            "=================================================================\n",
            "input (InputLayer)           (None, 1014)              0         \n",
            "_________________________________________________________________\n",
            "embedding_2 (Embedding)      (None, 1014, 70)          4970      \n",
            "_________________________________________________________________\n",
            "conv1d_13 (Conv1D)           (None, 1008, 256)         125696    \n",
            "_________________________________________________________________\n",
            "activation_13 (Activation)   (None, 1008, 256)         0         \n",
            "_________________________________________________________________\n",
            "max_pooling1d_7 (MaxPooling1 (None, 336, 256)          0         \n",
            "_________________________________________________________________\n",
            "conv1d_14 (Conv1D)           (None, 330, 256)          459008    \n",
            "_________________________________________________________________\n",
            "activation_14 (Activation)   (None, 330, 256)          0         \n",
            "_________________________________________________________________\n",
            "max_pooling1d_8 (MaxPooling1 (None, 110, 256)          0         \n",
            "_________________________________________________________________\n",
            "conv1d_15 (Conv1D)           (None, 108, 256)          196864    \n",
            "_________________________________________________________________\n",
            "activation_15 (Activation)   (None, 108, 256)          0         \n",
            "_________________________________________________________________\n",
            "conv1d_16 (Conv1D)           (None, 106, 256)          196864    \n",
            "_________________________________________________________________\n",
            "activation_16 (Activation)   (None, 106, 256)          0         \n",
            "_________________________________________________________________\n",
            "conv1d_17 (Conv1D)           (None, 104, 256)          196864    \n",
            "_________________________________________________________________\n",
            "activation_17 (Activation)   (None, 104, 256)          0         \n",
            "_________________________________________________________________\n",
            "conv1d_18 (Conv1D)           (None, 102, 256)          196864    \n",
            "_________________________________________________________________\n",
            "activation_18 (Activation)   (None, 102, 256)          0         \n",
            "_________________________________________________________________\n",
            "max_pooling1d_9 (MaxPooling1 (None, 34, 256)           0         \n",
            "_________________________________________________________________\n",
            "flatten_3 (Flatten)          (None, 8704)              0         \n",
            "_________________________________________________________________\n",
            "dense_7 (Dense)              (None, 1024)              8913920   \n",
            "_________________________________________________________________\n",
            "dropout_5 (Dropout)          (None, 1024)              0         \n",
            "_________________________________________________________________\n",
            "dense_8 (Dense)              (None, 1024)              1049600   \n",
            "_________________________________________________________________\n",
            "dropout_6 (Dropout)          (None, 1024)              0         \n",
            "_________________________________________________________________\n",
            "dense_9 (Dense)              (None, 3)                 3075      \n",
            "=================================================================\n",
            "Total params: 11,343,725\n",
            "Trainable params: 11,343,725\n",
            "Non-trainable params: 0\n",
            "_________________________________________________________________\n"
          ],
          "name": "stdout"
        }
      ]
    },
    {
      "cell_type": "code",
      "metadata": {
        "id": "xFkeVZDtzw79",
        "colab_type": "code",
        "colab": {}
      },
      "source": [
        ""
      ],
      "execution_count": 0,
      "outputs": []
    },
    {
      "cell_type": "code",
      "metadata": {
        "id": "gauTjxzVLfnl",
        "colab_type": "code",
        "colab": {}
      },
      "source": [
        "from sklearn.model_selection import train_test_split\n"
      ],
      "execution_count": 0,
      "outputs": []
    },
    {
      "cell_type": "code",
      "metadata": {
        "id": "oYvPZwJT2242",
        "colab_type": "code",
        "colab": {}
      },
      "source": [
        "x_train, x_test, y_train, y_test = train_test_split(train_data, train_classes, \n",
        "                                                            random_state=1, test_size=0.15)"
      ],
      "execution_count": 0,
      "outputs": []
    },
    {
      "cell_type": "code",
      "metadata": {
        "id": "OOqCttAJz3fK",
        "colab_type": "code",
        "colab": {
          "base_uri": "https://localhost:8080/",
          "height": 763
        },
        "outputId": "39d7cfe3-9237-4ddb-edf2-41f3de661e68"
      },
      "source": [
        "model.fit(x_train, y_train,\n",
        "          validation_data=(x_test, y_test),\n",
        "          batch_size=128,\n",
        "          epochs=20,\n",
        "          verbose=2)"
      ],
      "execution_count": 75,
      "outputs": [
        {
          "output_type": "stream",
          "text": [
            "Train on 12861 samples, validate on 2270 samples\n",
            "Epoch 1/20\n",
            " - 21s - loss: 1.0727 - acc: 0.3961 - val_loss: 1.0126 - val_acc: 0.4555\n",
            "Epoch 2/20\n",
            " - 21s - loss: 0.9846 - acc: 0.4923 - val_loss: 0.9639 - val_acc: 0.5137\n",
            "Epoch 3/20\n",
            " - 20s - loss: 0.9001 - acc: 0.5514 - val_loss: 0.8989 - val_acc: 0.5696\n",
            "Epoch 4/20\n",
            " - 20s - loss: 0.8315 - acc: 0.6035 - val_loss: 0.9189 - val_acc: 0.5705\n",
            "Epoch 5/20\n",
            " - 20s - loss: 0.7616 - acc: 0.6485 - val_loss: 0.9497 - val_acc: 0.5595\n",
            "Epoch 6/20\n",
            " - 21s - loss: 0.6619 - acc: 0.7078 - val_loss: 0.9180 - val_acc: 0.5837\n",
            "Epoch 7/20\n",
            " - 20s - loss: 0.5598 - acc: 0.7666 - val_loss: 1.1175 - val_acc: 0.5665\n",
            "Epoch 8/20\n",
            " - 20s - loss: 0.4659 - acc: 0.8145 - val_loss: 1.2272 - val_acc: 0.5718\n",
            "Epoch 9/20\n",
            " - 21s - loss: 0.3989 - acc: 0.8439 - val_loss: 1.3325 - val_acc: 0.5740\n",
            "Epoch 10/20\n",
            " - 20s - loss: 0.3003 - acc: 0.8926 - val_loss: 1.6888 - val_acc: 0.5357\n",
            "Epoch 11/20\n",
            " - 20s - loss: 0.2525 - acc: 0.9104 - val_loss: 1.6552 - val_acc: 0.5537\n",
            "Epoch 12/20\n",
            " - 20s - loss: 0.1937 - acc: 0.9344 - val_loss: 1.6265 - val_acc: 0.5590\n",
            "Epoch 13/20\n",
            " - 20s - loss: 0.1845 - acc: 0.9379 - val_loss: 1.6628 - val_acc: 0.5621\n",
            "Epoch 14/20\n",
            " - 21s - loss: 0.1620 - acc: 0.9476 - val_loss: 1.6640 - val_acc: 0.5665\n",
            "Epoch 15/20\n",
            " - 20s - loss: 0.1377 - acc: 0.9592 - val_loss: 1.9331 - val_acc: 0.5485\n",
            "Epoch 16/20\n",
            " - 20s - loss: 0.1226 - acc: 0.9619 - val_loss: 2.0695 - val_acc: 0.5520\n",
            "Epoch 17/20\n",
            " - 21s - loss: 0.1146 - acc: 0.9658 - val_loss: 2.0970 - val_acc: 0.5467\n",
            "Epoch 18/20\n",
            " - 20s - loss: 0.1267 - acc: 0.9582 - val_loss: 1.9657 - val_acc: 0.5639\n",
            "Epoch 19/20\n",
            " - 20s - loss: 0.1251 - acc: 0.9617 - val_loss: 2.0644 - val_acc: 0.5586\n",
            "Epoch 20/20\n",
            " - 20s - loss: 0.1048 - acc: 0.9699 - val_loss: 1.9783 - val_acc: 0.5599\n"
          ],
          "name": "stdout"
        },
        {
          "output_type": "execute_result",
          "data": {
            "text/plain": [
              "<keras.callbacks.History at 0x7f81efb3d358>"
            ]
          },
          "metadata": {
            "tags": []
          },
          "execution_count": 75
        }
      ]
    },
    {
      "cell_type": "code",
      "metadata": {
        "id": "gh8ee29_KBtK",
        "colab_type": "code",
        "colab": {}
      },
      "source": [
        "pred_array=model.predict(test_data)"
      ],
      "execution_count": 0,
      "outputs": []
    },
    {
      "cell_type": "code",
      "metadata": {
        "id": "rAKjAj3IQLEZ",
        "colab_type": "code",
        "colab": {}
      },
      "source": [
        "predicted=[]\n",
        "for i in pred_array:\n",
        "  predicted.append(np.argmax(i))"
      ],
      "execution_count": 0,
      "outputs": []
    },
    {
      "cell_type": "code",
      "metadata": {
        "id": "jx-SQU8AQdrE",
        "colab_type": "code",
        "colab": {}
      },
      "source": [
        "from sklearn.metrics import classification_report\n"
      ],
      "execution_count": 0,
      "outputs": []
    },
    {
      "cell_type": "code",
      "metadata": {
        "id": "7qvM5_bzR3Kc",
        "colab_type": "code",
        "colab": {}
      },
      "source": [
        "test_result=[]\n",
        "for i in test_classes:\n",
        "  test_result.append(np.argmax(i))"
      ],
      "execution_count": 0,
      "outputs": []
    },
    {
      "cell_type": "code",
      "metadata": {
        "id": "dOYIpP7-RnAo",
        "colab_type": "code",
        "colab": {}
      },
      "source": [
        "import keras\n",
        "y_pred=keras.utils.to_categorical(yp, num_classes=None)\n",
        "y_true=keras.utils.to_categorical(test_classes, num_classes=None, dtype='float32')"
      ],
      "execution_count": 0,
      "outputs": []
    },
    {
      "cell_type": "code",
      "metadata": {
        "id": "13cm73SnRUlY",
        "colab_type": "code",
        "colab": {
          "base_uri": "https://localhost:8080/",
          "height": 194
        },
        "outputId": "e7ae9ee6-eb9f-4696-c37a-9b37aa4cf17e"
      },
      "source": [
        "target_names = ['neutral', 'positive', 'negative']\n",
        "print(classification_report(test_result, predicted, target_names=target_names))"
      ],
      "execution_count": 80,
      "outputs": [
        {
          "output_type": "stream",
          "text": [
            "              precision    recall  f1-score   support\n",
            "\n",
            "     neutral       0.47      0.60      0.52       754\n",
            "    positive       0.52      0.48      0.50       582\n",
            "    negative       0.57      0.40      0.47       533\n",
            "\n",
            "    accuracy                           0.50      1869\n",
            "   macro avg       0.52      0.49      0.50      1869\n",
            "weighted avg       0.51      0.50      0.50      1869\n",
            "\n"
          ],
          "name": "stdout"
        }
      ]
    },
    {
      "cell_type": "code",
      "metadata": {
        "id": "HOmmwZ26Q-Ps",
        "colab_type": "code",
        "colab": {}
      },
      "source": [
        ""
      ],
      "execution_count": 0,
      "outputs": []
    }
  ]
}
